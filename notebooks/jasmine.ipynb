{
 "cells": [
  {
   "cell_type": "code",
   "execution_count": 7,
   "metadata": {},
   "outputs": [],
   "source": [
    "import psycopg2\n",
    "from datetime import datetime\n",
    "from dotenv import load_dotenv\n",
    "import os\n",
    "\n",
    "load_dotenv()\n",
    "\n",
    "DBNAME = os.getenv('PG_DBNAME')\n",
    "USER = os.getenv('PG_USER')\n",
    "PASSWORD = os.getenv('PG_PASSWORD')\n",
    "HOST = os.getenv('PG_HOST')\n",
    "PORT = os.getenv('PG_PORT')\n",
    "\n",
    "conn = psycopg2.connect(dbname=DBNAME,\n",
    "                        user=USER,\n",
    "                        password=PASSWORD,\n",
    "                        host=HOST,\n",
    "                        port=PORT)\n",
    "c = conn.cursor()\n",
    "\n"
   ]
  },
  {
   "cell_type": "code",
   "execution_count": 9,
   "metadata": {},
   "outputs": [
    {
     "name": "stdout",
     "output_type": "stream",
     "text": [
      "(1, 'Engineering', 'Research and Development', datetime.datetime(2008, 4, 30, 0, 0))\n",
      "(2, 'Tool Design', 'Research and Development', datetime.datetime(2008, 4, 30, 0, 0))\n",
      "(3, 'Sales', 'Sales and Marketing', datetime.datetime(2008, 4, 30, 0, 0))\n",
      "(4, 'Marketing', 'Sales and Marketing', datetime.datetime(2008, 4, 30, 0, 0))\n",
      "(5, 'Purchasing', 'Inventory Management', datetime.datetime(2008, 4, 30, 0, 0))\n",
      "(6, 'Research and Development', 'Research and Development', datetime.datetime(2008, 4, 30, 0, 0))\n",
      "(7, 'Production', 'Manufacturing', datetime.datetime(2008, 4, 30, 0, 0))\n",
      "(8, 'Production Control', 'Manufacturing', datetime.datetime(2008, 4, 30, 0, 0))\n",
      "(9, 'Human Resources', 'Executive General and Administration', datetime.datetime(2008, 4, 30, 0, 0))\n",
      "(10, 'Finance', 'Executive General and Administration', datetime.datetime(2008, 4, 30, 0, 0))\n"
     ]
    }
   ],
   "source": [
    "#Create test query to verify connection \n",
    "test_query = '''\n",
    "                SELECT *\n",
    "                FROM humanresources.department\n",
    "                LIMIT 10;\n",
    "                '''\n",
    "\n",
    "c.execute(test_query)\n",
    "\n",
    "for row in c:\n",
    "    print (row)"
   ]
  },
  {
   "cell_type": "code",
   "execution_count": 5,
   "metadata": {},
   "outputs": [],
   "source": [
    "conn.commit()\n",
    "conn.close()"
   ]
  }
 ],
 "metadata": {
  "kernelspec": {
   "display_name": "base",
   "language": "python",
   "name": "python3"
  },
  "language_info": {
   "codemirror_mode": {
    "name": "ipython",
    "version": 3
   },
   "file_extension": ".py",
   "mimetype": "text/x-python",
   "name": "python",
   "nbconvert_exporter": "python",
   "pygments_lexer": "ipython3",
   "version": "3.11.7"
  }
 },
 "nbformat": 4,
 "nbformat_minor": 2
}
