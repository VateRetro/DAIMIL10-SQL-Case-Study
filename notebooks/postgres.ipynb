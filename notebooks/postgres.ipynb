{
 "cells": [
  {
   "cell_type": "code",
   "execution_count": null,
   "metadata": {},
   "outputs": [],
   "source": [
    "import psycopg2\n",
    "from datetime import datetime\n",
    "from dotenv import load_dotenv\n",
    "import os\n",
    "\n",
    "load_dotenv()\n",
    "\n",
    "DBNAME = os.getenv('PG_DBNAME')\n",
    "USER = os.getenv('PG_USER')\n",
    "PASSWORD = os.getenv('PG_PASSWORD')\n",
    "HOST = os.getenv('PG_HOST')\n",
    "PORT = os.getenv('PG_PORT')\n",
    "\n",
    "conn = psycopg2.connect(dbname=DBNAME,\n",
    "                        user=USER,\n",
    "                        password=PASSWORD,\n",
    "                        host=HOST,\n",
    "                        port=PORT)\n",
    "c = conn.cursor()\n",
    "\n",
    "conn.commit()\n",
    "conn.close()"
   ]
  }
 ],
 "metadata": {
  "kernelspec": {
   "display_name": "base",
   "language": "python",
   "name": "python3"
  },
  "language_info": {
   "name": "python",
   "version": "3.11.7"
  }
 },
 "nbformat": 4,
 "nbformat_minor": 2
}
